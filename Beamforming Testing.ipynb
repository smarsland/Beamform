{
 "cells": [
  {
   "cell_type": "code",
   "execution_count": 2,
   "metadata": {},
   "outputs": [],
   "source": [
    "import numpy as np\n",
    "import matplotlib.pyplot as plt\n",
    "%matplotlib inline"
   ]
  },
  {
   "cell_type": "markdown",
   "metadata": {},
   "source": [
    "# Implementation of constrained LMS algorithm\n",
    "from Frost\n",
    "\n",
    "We'll start by trying to replicate his results so we know that the algorithm is working correctly. First, I gotta check I remember how filters work, let's calculate the transfer function directly, should match Figure 9"
   ]
  },
  {
   "cell_type": "code",
   "execution_count": 6,
   "metadata": {},
   "outputs": [
    {
     "data": {
      "text/plain": [
       "Text(0,0.5,'Magnitude squared')"
      ]
     },
     "execution_count": 6,
     "metadata": {},
     "output_type": "execute_result"
    },
    {
     "data": {
      "image/png": "[encoded data removed]",
      "text/plain": [
       "<Figure size 432x288 with 1 Axes>"
      ]
     },
     "metadata": {},
     "output_type": "display_data"
    }
   ],
   "source": [
    "c = np.array([1, -2, 1.5, 2])\n",
    "\n",
    "# Look at the frequency response of the filter up to the Nyquist frequency, and check it works properly\n",
    "f = np.linspace(0, 0.5)\n",
    "H = np.zeros(f.shape, dtype='complex128')\n",
    "for k in range(4):\n",
    "    H += c[k]*np.exp(k*1j*2*np.pi*f)\n",
    "\n",
    "plt.plot(f, abs(H)**2)\n",
    "plt.grid(True)\n",
    "plt.xlabel('Frequency (Hz, normalised)')\n",
    "plt.ylabel('Magnitude squared')\n"
   ]
  },
  {
   "cell_type": "markdown",
   "metadata": {},
   "source": [
    "Looks legit, c.f. Fig 9 of paper"
   ]
  },
  {
   "cell_type": "markdown",
   "metadata": {},
   "source": [
    "## Construct signal and noise sources\n",
    "According to the Frost, \"all signals were generated by a pseudo-Gaussian generator and filtered to give them proper spatial and temporal correlations. All temporal correlations were arranged to be identically zero for time differences greater than $25\\tau$\". \n",
    "\n",
    "I don't believe the paper gives all the information, e.g. the sensor spacing is not specified, and how this relates to the wavelengths of the incoming signals will be important. We'll need to make some assumptions about these things.\n",
    "\n",
    "<table>\n",
    "    <tr>\n",
    "        <td>Source</td>\n",
    "        <td>Power </td>\n",
    "        <td>Direction (degrees, from normal)</td>\n",
    "        <td>Center Frequency</td>\n",
    "        <td>Bandwidth</td>\n",
    "    </tr>\n",
    "    <tr>\n",
    "        <td>Signal</td>\n",
    "        <td>0.1</td>\n",
    "        <td>0</td>\n",
    "        <td>0.3</td>\n",
    "        <td>0.1</td>\n",
    "    </tr>\n",
    "        <tr>\n",
    "        <td>Noise A</td>\n",
    "        <td>1.0</td>\n",
    "        <td>45</td>\n",
    "        <td>0.2</td>\n",
    "        <td>0.05</td>\n",
    "    </tr>\n",
    "    <tr>\n",
    "        <td>Noise B</td>\n",
    "        <td>1.0</td>\n",
    "        <td>60</td>\n",
    "        <td>0.4</td>\n",
    "        <td>0.07</td>\n",
    "    </tr>\n",
    "</table>"
   ]
  },
  {
   "cell_type": "code",
   "execution_count": 8,
   "metadata": {},
   "outputs": [
    {
     "ename": "SyntaxError",
     "evalue": "invalid syntax (<ipython-input-8-aa6eeaaba8be>, line 1)",
     "output_type": "error",
     "traceback": [
      "\u001b[0;36m  File \u001b[0;32m\"<ipython-input-8-aa6eeaaba8be>\"\u001b[0;36m, line \u001b[0;32m1\u001b[0m\n\u001b[0;31m    def construct_signal\u001b[0m\n\u001b[0m                        ^\u001b[0m\n\u001b[0;31mSyntaxError\u001b[0m\u001b[0;31m:\u001b[0m invalid syntax\n"
     ]
    }
   ],
   "source": [
    "def construct_signal(direction, bandwidth):\n",
    "    "
   ]
  },
  {
   "cell_type": "code",
   "execution_count": null,
   "metadata": {},
   "outputs": [],
   "source": []
  }
 ],
 "metadata": {
  "kernelspec": {
   "display_name": "Python 3",
   "language": "python",
   "name": "python3"
  },
  "language_info": {
   "codemirror_mode": {
    "name": "ipython",
    "version": 3
   },
   "file_extension": ".py",
   "mimetype": "text/x-python",
   "name": "python",
   "nbconvert_exporter": "python",
   "pygments_lexer": "ipython3",
   "version": "3.6.5"
  }
 },
 "nbformat": 4,
 "nbformat_minor": 2
}
